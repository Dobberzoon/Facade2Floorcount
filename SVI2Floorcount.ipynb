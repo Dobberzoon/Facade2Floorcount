{
  "nbformat": 4,
  "nbformat_minor": 0,
  "metadata": {
    "colab": {
      "provenance": [],
      "authorship_tag": "ABX9TyOmwGmaxD4VeE+o0iGphX+Y",
      "include_colab_link": true
    },
    "kernelspec": {
      "name": "python3",
      "display_name": "Python 3"
    },
    "language_info": {
      "name": "python"
    }
  },
  "cells": [
    {
      "cell_type": "markdown",
      "metadata": {
        "id": "view-in-github",
        "colab_type": "text"
      },
      "source": [
        "<a href=\"https://colab.research.google.com/github/Dobberzoon/Facade2Floorcount/blob/main/SVI2Floorcount.ipynb\" target=\"_parent\"><img src=\"https://colab.research.google.com/assets/colab-badge.svg\" alt=\"Open In Colab\"/></a>"
      ]
    },
    {
      "cell_type": "markdown",
      "source": [
        "# *Floor count from street view imagery using learning-based façade parsing.*\n",
        "\n",
        "All related code, links to datasets and annotations files will be published here. Release is pending, as code cleaning and addition of documentation is in the works. \n",
        "\n",
        "Author: Daniel Dobson\n",
        "\n",
        "Contact: dobberzoon@gmail.com"
      ],
      "metadata": {
        "id": "wtp5IpQWNG_f"
      }
    },
    {
      "cell_type": "code",
      "execution_count": 1,
      "metadata": {
        "colab": {
          "base_uri": "https://localhost:8080/"
        },
        "id": "HrX7DgdKMlWc",
        "outputId": "bab905db-301b-4dbc-f78c-9cc457e1f378"
      },
      "outputs": [
        {
          "output_type": "stream",
          "name": "stdout",
          "text": [
            "hello storey\n"
          ]
        }
      ],
      "source": [
        "print(\"hello storey\")"
      ]
    }
  ]
}