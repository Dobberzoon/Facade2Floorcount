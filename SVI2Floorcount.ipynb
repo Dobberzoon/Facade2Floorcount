{
  "nbformat": 4,
  "nbformat_minor": 0,
  "metadata": {
    "colab": {
      "provenance": [],
      "authorship_tag": "ABX9TyOodg1R8XpfzIQKZhhbMl4v",
      "include_colab_link": true
    },
    "kernelspec": {
      "name": "python3",
      "display_name": "Python 3"
    },
    "language_info": {
      "name": "python"
    }
  },
  "cells": [
    {
      "cell_type": "markdown",
      "metadata": {
        "id": "view-in-github",
        "colab_type": "text"
      },
      "source": [
        "<a href=\"https://colab.research.google.com/github/Dobberzoon/Facade2Floorcount/blob/main/SVI2Floorcount.ipynb\" target=\"_parent\"><img src=\"https://colab.research.google.com/assets/colab-badge.svg\" alt=\"Open In Colab\"/></a>"
      ]
    },
    {
      "cell_type": "markdown",
      "source": [
        "# *Floor count from street view imagery using learning-based façade parsing.*\n",
        "\n",
        "All related code, links to datasets and annotations files will be published here. Release is pending, as code cleaning and addition of documentation is in the works. \n",
        "\n",
        "Author: Daniel Dobson\n",
        "\n",
        "Contact: dobberzoon@gmail.com"
      ],
      "metadata": {
        "id": "wtp5IpQWNG_f"
      }
    },
    {
      "cell_type": "code",
      "execution_count": null,
      "metadata": {
        "id": "HrX7DgdKMlWc"
      },
      "outputs": [],
      "source": []
    }
  ]
}